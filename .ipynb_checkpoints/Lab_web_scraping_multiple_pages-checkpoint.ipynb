{
 "cells": [
  {
   "cell_type": "markdown",
   "id": "d7697749",
   "metadata": {},
   "source": [
    "# Lab | Web Scraping Multiple Pages\n",
    "\n",
    "#### Business goal:\n",
    "\n",
    "Done in previous lab\n",
    "\n",
    "#### Instructions \n",
    "\n",
    "#### Prioritize the MVP\n",
    "\n",
    "MVP finished in previous lab\n",
    "\n",
    "#### Expand the project\n",
    "\n",
    "If you're done, you can try to expand the project on your own. Here are a few suggestions:\n",
    "\n",
    "- Find other lists of hot songs on the internet and scrape them too: having a bigger pool of songs will be awesome!\n",
    "- Apply the same logic to other \"groups\" of songs: the best songs from a decade or from a country / culture / language / genre.\n",
    "- Wikipedia maintains a large collection of lists of songs: https://en.wikipedia.org/wiki/Lists_of_songs\n",
    "\n",
    "#### Practice web scraping\n",
    "\n",
    "As you've seen, scraping the internet is a skill that can get you all sorts of information. Here are some little challenges that you can try to gain more experience in the field:\n",
    "\n",
    "- Retrieve an arbitrary Wikipedia page of \"Python\" and create a list of links on that page: `url ='https://en.wikipedia.org/wiki/Python'`\n",
    "- Find the number of titles that have changed in the United States Code since its last release point: `url = 'http://uscode.house.gov/download/download.shtml'`\n",
    "- Create a Python list with the top ten FBI's Most Wanted names: `url = 'https://www.fbi.gov/wanted/topten'`\n",
    "- Display the 20 latest earthquakes info (date, time, latitude, longitude and region name) by the EMSC as a pandas dataframe: `url = 'https://www.emsc-csem.org/Earthquake/'`\n",
    "- List all language names and number of related articles in the order they appear in [wikipedia.org](wikipedia.org): `url = 'https://www.wikipedia.org/'`\n",
    "- A list with the different kind of datasets available in [data.gov.uk](data.gov.uk): `url = 'https://data.gov.uk/'`\n",
    "- Display the top 10 languages by number of native speakers stored in a pandas dataframe: `url = 'https://en.wikipedia.org/wiki/List_of_languages_by_number_of_native_speakers'`"
   ]
  },
  {
   "cell_type": "code",
   "execution_count": 6,
   "id": "59f20dee",
   "metadata": {},
   "outputs": [],
   "source": [
    "import pandas as pd\n",
    "from bs4 import BeautifulSoup\n",
    "import requests"
   ]
  },
  {
   "cell_type": "code",
   "execution_count": 7,
   "id": "b9fd5bca",
   "metadata": {},
   "outputs": [
    {
     "data": {
      "text/plain": [
       "200"
      ]
     },
     "execution_count": 7,
     "metadata": {},
     "output_type": "execute_result"
    }
   ],
   "source": [
    "url = \"https://en.wikipedia.org/wiki/Special:PrefixIndex/List_of_songs_recorded_by\"\n",
    "response = requests.get(url)\n",
    "response.status_code              # 200 status code means OK!"
   ]
  },
  {
   "cell_type": "code",
   "execution_count": 8,
   "id": "f7b00970",
   "metadata": {},
   "outputs": [],
   "source": [
    "soup = BeautifulSoup(response.content, \"html.parser\")"
   ]
  },
  {
   "cell_type": "code",
   "execution_count": 9,
   "id": "3f520f2d",
   "metadata": {},
   "outputs": [],
   "source": [
    "# Take the last selector so I know how often to iterate (+1)\n",
    "#mw-content-text > div.mw-prefixindex-body > ul > li:nth-child(345) > a\n",
    "\n",
    "artists = []\n",
    "for i in range(2):         #(690):\n",
    "    artists = artists + soup.select(\"#mw-content-text > div.mw-prefixindex-body > ul > li:nth-child(\" + str(i) + \") > a\")"
   ]
  },
  {
   "cell_type": "code",
   "execution_count": 25,
   "id": "60e8241c",
   "metadata": {},
   "outputs": [
    {
     "name": "stdout",
     "output_type": "stream",
     "text": [
      "0\n",
      "https://en.wikipedia.org/wiki/List_of_songs_recorded_by_%22Weird_Al%22_Yankovic\n"
     ]
    }
   ],
   "source": [
    "domain = 'https://en.wikipedia.org'\n",
    "for i in artists:\n",
    "    \n",
    "    print(artists.index(i))\n",
    "    url = domain+artists[artists.index(i)][\"href\"]\n",
    "    print(url)\n",
    "    response = requests.get(url)\n",
    "    response.status_code\n",
    "    art_soup = BeautifulSoup(response.content, \"html.parser\")\n",
    "    \n",
    "#art_soup"
   ]
  },
  {
   "cell_type": "code",
   "execution_count": null,
   "id": "06dad717",
   "metadata": {},
   "outputs": [],
   "source": [
    "# example exception handling\n",
    "import sys\n",
    "\n",
    "randomList = ['a', 0, 2]\n",
    "\n",
    "for entry in randomList:\n",
    "    try:\n",
    "        print(\"The entry is\", entry)\n",
    "        r = 1/int(entry)\n",
    "        break\n",
    "    except:\n",
    "        print(\"Oops!\", sys.exc_info()[0], \"occurred.\")\n",
    "        print(\"Next entry.\")\n",
    "        print()\n",
    "print(\"The reciprocal of\", entry, \"is\", r)"
   ]
  },
  {
   "cell_type": "code",
   "execution_count": null,
   "id": "d64d7673",
   "metadata": {},
   "outputs": [],
   "source": [
    "artists[0][\"href\"]\n",
    "domain = 'https://en.wikipedia.org'\n",
    "suffix = ', match=\"Songs recorded by\"'\n",
    "domain + artists[0][\"href\"] + suffix"
   ]
  },
  {
   "cell_type": "code",
   "execution_count": null,
   "id": "a49471ce",
   "metadata": {},
   "outputs": [],
   "source": []
  },
  {
   "cell_type": "code",
   "execution_count": null,
   "id": "93b4f6a4",
   "metadata": {},
   "outputs": [],
   "source": []
  },
  {
   "cell_type": "code",
   "execution_count": null,
   "id": "0b1226d2",
   "metadata": {},
   "outputs": [],
   "source": [
    "table_wiki = pd.read_html('https://en.wikipedia.org/wiki/List_of_songs_recorded_by_Ariana_Grande', \n",
    "                          match='Songs recorded by')\n",
    "df = table_wiki[0]\n",
    "df.head()"
   ]
  },
  {
   "cell_type": "code",
   "execution_count": null,
   "id": "9bfcbdee",
   "metadata": {},
   "outputs": [],
   "source": []
  },
  {
   "cell_type": "code",
   "execution_count": null,
   "id": "536d1889",
   "metadata": {},
   "outputs": [],
   "source": []
  },
  {
   "cell_type": "code",
   "execution_count": null,
   "id": "a412ae6f",
   "metadata": {},
   "outputs": [],
   "source": []
  },
  {
   "cell_type": "code",
   "execution_count": null,
   "id": "8e7d7418",
   "metadata": {},
   "outputs": [],
   "source": [
    "\n",
    "#source = urllib.request.urlopen('https://en.wikipedia.org/wiki/List_of_songs_recorded_by_Adele').read()\n",
    "# source = urllib.request.urlopen('https://en.wikipedia.org/wiki/List_of_songs_recorded_by_Ariana_Grande').read()\n",
    "# soup = bs.BeautifulSoup(source,'lxml')"
   ]
  },
  {
   "cell_type": "code",
   "execution_count": null,
   "id": "123c2a85",
   "metadata": {},
   "outputs": [],
   "source": [
    "# table = source.find_all('table')\n",
    "# df = pd.read_html(str(table))[2]"
   ]
  },
  {
   "cell_type": "code",
   "execution_count": null,
   "id": "5f5c6a57",
   "metadata": {},
   "outputs": [],
   "source": []
  },
  {
   "cell_type": "code",
   "execution_count": null,
   "id": "4a620f4b",
   "metadata": {},
   "outputs": [],
   "source": []
  }
 ],
 "metadata": {
  "kernelspec": {
   "display_name": "Python 3",
   "language": "python",
   "name": "python3"
  },
  "language_info": {
   "codemirror_mode": {
    "name": "ipython",
    "version": 3
   },
   "file_extension": ".py",
   "mimetype": "text/x-python",
   "name": "python",
   "nbconvert_exporter": "python",
   "pygments_lexer": "ipython3",
   "version": "3.8.8"
  }
 },
 "nbformat": 4,
 "nbformat_minor": 5
}
